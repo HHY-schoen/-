{
 "cells": [
  {
   "cell_type": "code",
   "execution_count": 11,
   "id": "36d62f98",
   "metadata": {},
   "outputs": [
    {
     "name": "stdout",
     "output_type": "stream",
     "text": [
      "0.6324555320336759\n",
      "0.8111071056538125\n",
      "0.31622776601683794\n"
     ]
    }
   ],
   "source": [
    "#!/usr/bin/env python\n",
    "# coding: utf-8\n",
    "\n",
    "from SimilarityTF import *\n",
    "q='ant dog'\n",
    "d1='ant ant bee '\n",
    "d2='dog bee dog hog dog ant dog '\n",
    "d3='cat gnu dog eel fox '\n",
    "print (SentenceCosineSetBaseTF(q,d1,d1+d2+d3))\n",
    "\n",
    "print (SentenceCosineSetBaseTF(q,d2,d1+d2+d3))\n",
    "\n",
    "print (SentenceCosineSetBaseTF(q,d3,d1+d2+d3))"
   ]
  },
  {
   "cell_type": "code",
   "execution_count": null,
   "id": "631691f3",
   "metadata": {},
   "outputs": [],
   "source": []
  }
 ],
 "metadata": {
  "kernelspec": {
   "display_name": "Python [conda env:py3]",
   "language": "python",
   "name": "py3"
  },
  "language_info": {
   "codemirror_mode": {
    "name": "ipython",
    "version": 3
   },
   "file_extension": ".py",
   "mimetype": "text/x-python",
   "name": "python",
   "nbconvert_exporter": "python",
   "pygments_lexer": "ipython3",
   "version": "3.9.7"
  }
 },
 "nbformat": 4,
 "nbformat_minor": 5
}
