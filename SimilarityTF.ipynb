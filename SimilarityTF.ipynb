{
 "cells": [
  {
   "cell_type": "code",
   "execution_count": 3,
   "id": "73a5af4b",
   "metadata": {},
   "outputs": [
    {
     "name": "stdout",
     "output_type": "stream",
     "text": [
      "'ps2 ps2 ps3 '和'wii ps3 wii xbox wii ps2 wii '的TF相似度為 0.3078\n",
      "'ps2 ps2 ps3 '和'psp ds wii gb gc '的TF相似度為 0.0000\n",
      "'wii ps3 wii xbox wii ps2 wii '和'psp ds wii gb gc '的TF相似度為 0.4104\n"
     ]
    }
   ],
   "source": [
    "# -*- coding: utf-8 -*-\n",
    "import math,numpy,nltk\n",
    "from numpy import *\n",
    "from nltk.corpus import wordnet\n",
    "#-------------------------------------------------------------------------------------\n",
    "#句子相似度計算\n",
    "def SentenceCosineSetBaseTF(sen1,sen2, collection):\n",
    "    #sen1=pretreatmentData(sen1)\n",
    "    #sen2=pretreatmentData(sen2)\n",
    "    #collection=pretreatmentData(collection)\n",
    "    sen1 = sen1.split()    \n",
    "    sen2 = sen2.split()\n",
    "    dataSet=collection.split()\n",
    "    #將句子斷詞,成list\n",
    "\n",
    "    dim = []\n",
    "    for word in dataSet:\n",
    "        if word not in dim:\n",
    "            dim.append(word)\n",
    "    #計算document collection共有多少不同字, 存成dim向量\n",
    "\n",
    "    u = zeros(len(dim))\n",
    "    v = zeros(len(dim))\n",
    "    #設u,v 皆為0的array大小\n",
    "\n",
    "    for word in dim:\n",
    "        if word in sen1:\n",
    "            u[dim.index(word)] = sen1.count(word)  #tf\n",
    "        if word in sen2:\n",
    "            v[dim.index(word)] = sen2.count(word)  #tf\n",
    "    #設u,v表示sen1,sen2的向量內容 ex:[ 1.,  1.,  1.,  2.,  0.] 存在表示次數(>0)，不存在表示0\n",
    "\n",
    "    Cosine = cosine_distance(u,v)\n",
    "    #計算相似度\n",
    "    return Cosine\n",
    "\n",
    "#-------------------------------------------------------------------------------------\n",
    "#去除list內空白字串\n",
    "\n",
    "def deListNull(listName):\n",
    "    for x in range(listName.count('')):\n",
    "        listName.pop(listName.index(''))\n",
    "\n",
    "#-------------------------------------------------------------------------------------\n",
    "#相似度計算\n",
    "def cosine_distance(u, v):\n",
    "    \"\"\"\n",
    "    Returns the cosine of the angle between vectors v and u. This is equal to\n",
    "    u.v / |u||v|.\n",
    "    \"\"\"\n",
    "    return numpy.dot(u, v) / (math.sqrt(numpy.dot(u, u)) * math.sqrt(numpy.dot(v, v)))\n",
    "#-------------------------------------------------------------------------------------\n",
    "#讀取檔案內資料成list\n",
    "def fileDataList(fileName):\n",
    "    TempFile = open(fileName)\n",
    "    data = TempFile.read()\n",
    "    TempFile.close()\n",
    "    data = data.split('\\n')\n",
    "    return data\n",
    "\n",
    "#-------------------------------------------------------------------------------------\n",
    "if __name__=='__main__':\n",
    "    d1='ps2 ps2 ps3 '\n",
    "    d2='wii ps3 wii xbox wii ps2 wii '\n",
    "    d3='psp ds wii gb gc '\n",
    "    print ('\\'%s\\'和\\'%s\\'的TF相似度為 %.4f' % (d1,d2,SentenceCosineSetBaseTF(d1,d2,d1+d2+d3)))\n",
    "    print ('\\'%s\\'和\\'%s\\'的TF相似度為 %.4f' % (d1,d3,SentenceCosineSetBaseTF(d1,d3,d1+d2+d3)))\n",
    "    print ('\\'%s\\'和\\'%s\\'的TF相似度為 %.4f' % (d2,d3,SentenceCosineSetBaseTF(d2,d3,d1+d2+d3)))\n"
   ]
  },
  {
   "cell_type": "code",
   "execution_count": null,
   "id": "945a5fb9",
   "metadata": {},
   "outputs": [],
   "source": []
  }
 ],
 "metadata": {
  "kernelspec": {
   "display_name": "Python [conda env:py3]",
   "language": "python",
   "name": "py3"
  },
  "language_info": {
   "codemirror_mode": {
    "name": "ipython",
    "version": 3
   },
   "file_extension": ".py",
   "mimetype": "text/x-python",
   "name": "python",
   "nbconvert_exporter": "python",
   "pygments_lexer": "ipython3",
   "version": "3.9.7"
  }
 },
 "nbformat": 4,
 "nbformat_minor": 5
}
